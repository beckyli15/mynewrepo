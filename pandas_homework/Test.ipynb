{
 "cells": [
  {
   "cell_type": "code",
   "execution_count": 13,
   "metadata": {
    "scrolled": false
   },
   "outputs": [
    {
     "ename": "AttributeError",
     "evalue": "module 'pandas' has no attribute 'set_printoptions'",
     "output_type": "error",
     "traceback": [
      "\u001b[1;31m---------------------------------------------------------------------------\u001b[0m",
      "\u001b[1;31mAttributeError\u001b[0m                            Traceback (most recent call last)",
      "\u001b[1;32m<ipython-input-13-7b0847514ab7>\u001b[0m in \u001b[0;36m<module>\u001b[1;34m\u001b[0m\n\u001b[0;32m      5\u001b[0m \u001b[1;33m\u001b[0m\u001b[0m\n\u001b[0;32m      6\u001b[0m \u001b[0mpd\u001b[0m\u001b[1;33m.\u001b[0m\u001b[0moptions\u001b[0m\u001b[1;33m.\u001b[0m\u001b[0mdisplay\u001b[0m\u001b[1;33m.\u001b[0m\u001b[0mmax_columns\u001b[0m \u001b[1;33m=\u001b[0m \u001b[1;32mNone\u001b[0m\u001b[1;33m\u001b[0m\u001b[1;33m\u001b[0m\u001b[0m\n\u001b[1;32m----> 7\u001b[1;33m \u001b[0mpd\u001b[0m\u001b[1;33m.\u001b[0m\u001b[0mset_printoptions\u001b[0m\u001b[1;33m(\u001b[0m\u001b[0mmax_columns\u001b[0m\u001b[1;33m=\u001b[0m\u001b[1;36m800\u001b[0m\u001b[1;33m)\u001b[0m\u001b[1;33m\u001b[0m\u001b[1;33m\u001b[0m\u001b[0m\n\u001b[0m\u001b[0;32m      8\u001b[0m \u001b[1;33m\u001b[0m\u001b[0m\n\u001b[0;32m      9\u001b[0m \u001b[1;33m\u001b[0m\u001b[0m\n",
      "\u001b[1;31mAttributeError\u001b[0m: module 'pandas' has no attribute 'set_printoptions'"
     ]
    }
   ],
   "source": [
    "import pandas as pd\n",
    "import numpy as np\n",
    "import pandas as pd\n",
    "from IPython.display import display\n",
    "\n",
    "pd.options.display.max_columns = None\n",
    "pd.set_printoptions(max_columns=800)\n",
    "\n",
    "\n",
    "csvpath=\"purchase_data.csv\"\n",
    "purchase_data=pd.read_csv(csvpath)\n",
    "purchase_data\n"
   ]
  },
  {
   "cell_type": "code",
   "execution_count": 9,
   "metadata": {
    "scrolled": true
   },
   "outputs": [
    {
     "data": {
      "text/html": [
       "<div>\n",
       "<style scoped>\n",
       "    .dataframe tbody tr th:only-of-type {\n",
       "        vertical-align: middle;\n",
       "    }\n",
       "\n",
       "    .dataframe tbody tr th {\n",
       "        vertical-align: top;\n",
       "    }\n",
       "\n",
       "    .dataframe thead th {\n",
       "        text-align: right;\n",
       "    }\n",
       "</style>\n",
       "<table border=\"1\" class=\"dataframe\">\n",
       "  <thead>\n",
       "    <tr style=\"text-align: right;\">\n",
       "      <th></th>\n",
       "      <th>Total Players</th>\n",
       "    </tr>\n",
       "  </thead>\n",
       "  <tbody>\n",
       "    <tr>\n",
       "      <th>0</th>\n",
       "      <td>576</td>\n",
       "    </tr>\n",
       "  </tbody>\n",
       "</table>\n",
       "</div>"
      ],
      "text/plain": [
       "   Total Players\n",
       "0            576"
      ]
     },
     "execution_count": 9,
     "metadata": {},
     "output_type": "execute_result"
    }
   ],
   "source": [
    "#total player\n",
    "unique_player= purchase_data[\"SN\"].nunique()\n",
    "data={'Total Players':[unique_player]}\n",
    "unique_player_result= pd.DataFrame(data)\n",
    "unique_player_result\n"
   ]
  },
  {
   "cell_type": "code",
   "execution_count": 11,
   "metadata": {},
   "outputs": [
    {
     "data": {
      "text/html": [
       "<div>\n",
       "<style scoped>\n",
       "    .dataframe tbody tr th:only-of-type {\n",
       "        vertical-align: middle;\n",
       "    }\n",
       "\n",
       "    .dataframe tbody tr th {\n",
       "        vertical-align: top;\n",
       "    }\n",
       "\n",
       "    .dataframe thead th {\n",
       "        text-align: right;\n",
       "    }\n",
       "</style>\n",
       "<table border=\"1\" class=\"dataframe\">\n",
       "  <thead>\n",
       "    <tr style=\"text-align: right;\">\n",
       "      <th></th>\n",
       "      <th>Number of Unique Item</th>\n",
       "      <th>Average Price</th>\n",
       "      <th>Number of Purchases</th>\n",
       "      <th>Total Revenue</th>\n",
       "    </tr>\n",
       "  </thead>\n",
       "  <tbody>\n",
       "    <tr>\n",
       "      <th>0</th>\n",
       "      <td>183</td>\n",
       "      <td>3.050987</td>\n",
       "      <td>780</td>\n",
       "      <td>2379.77</td>\n",
       "    </tr>\n",
       "  </tbody>\n",
       "</table>\n",
       "</div>"
      ],
      "text/plain": [
       "   Number of Unique Item  Average Price  Number of Purchases  Total Revenue\n",
       "0                    183       3.050987                  780        2379.77"
      ]
     },
     "execution_count": 11,
     "metadata": {},
     "output_type": "execute_result"
    }
   ],
   "source": [
    "#number of unique items, average price, number of purchases, total rev\n",
    "unique_items=purchase_data[\"Item ID\"].nunique()\n",
    "\n",
    "total_purchases=purchase_data[\"SN\"].count()\n",
    "avg_price=sum(purchase_data[\"Price\"])/total_purchases\n",
    "total_rev=sum(purchase_data[\"Price\"])\n",
    "data2={'Number of Unique Item':[unique_items],'Average Price':[avg_price],'Number of Purchases':[total_purchases],'Total Revenue':[total_rev]}\n",
    "purchasing_analysis=pd.DataFrame(data2)\n",
    "purchasing_analysis\n"
   ]
  },
  {
   "cell_type": "code",
   "execution_count": 4,
   "metadata": {},
   "outputs": [],
   "source": [
    "#percentage and count of male, female, and other/nonedisclosed players\n",
    "unique_gender=purchase_data.groupby(\"Gender\").nunique()\n",
    "gender_count=unique_gender[\"SN\"]\n",
    "percentage=(gender_count/unique_player)*100\n",
    "\n",
    "                        "
   ]
  },
  {
   "cell_type": "code",
   "execution_count": 5,
   "metadata": {},
   "outputs": [
    {
     "data": {
      "text/plain": [
       "Gender\n",
       "Female                   4.468395\n",
       "Male                     4.065372\n",
       "Other / Non-Disclosed    4.562727\n",
       "dtype: float64"
      ]
     },
     "execution_count": 5,
     "metadata": {},
     "output_type": "execute_result"
    }
   ],
   "source": [
    "#purchase count, avg. purchase price, total purchase value, avg total purchase per person by gender\n",
    "purchase_count=unique_gender[\"Purchase ID\"]\n",
    "purchase_count\n",
    "#total purhcase value\n",
    "total_rev_gender=purchase_data.groupby('Gender')[\"Price\"].agg('sum')\n",
    "#avg purchase price\n",
    "avg_purchase_price=total_rev_gender/purchase_count\n",
    "avg_purchase_price\n",
    "#avg total purchase per person\n",
    "avg_total_purchase_person=total_rev_gender/gender_count\n",
    "avg_total_purchase_person\n"
   ]
  },
  {
   "cell_type": "code",
   "execution_count": 6,
   "metadata": {},
   "outputs": [
    {
     "data": {
      "text/plain": [
       "SN\n",
       "Adairialis76       2.280000\n",
       "Adastirin33        4.480000\n",
       "Aeda94             4.910000\n",
       "Aela59             4.320000\n",
       "Aelaria33          1.790000\n",
       "Aelastirin39       3.645000\n",
       "Aelidru27          1.090000\n",
       "Aelin32            2.993333\n",
       "Aelly27            3.395000\n",
       "Aellynun67         3.740000\n",
       "Aellyria80         3.080000\n",
       "Aelollo59          2.815000\n",
       "Aenarap34          2.960000\n",
       "Aeral43            4.400000\n",
       "Aeral68            4.000000\n",
       "Aeral97            4.800000\n",
       "Aeralria27         4.090000\n",
       "Aeralstical35      2.960000\n",
       "Aeri84             1.610000\n",
       "Aerillorin70       3.330000\n",
       "Aerithllora36      4.320000\n",
       "Aerithnucal56      4.400000\n",
       "Aerithnuphos61     4.910000\n",
       "Aerithriaphos45    1.560000\n",
       "Aerithriaphos46    2.180000\n",
       "Aesri53            1.760000\n",
       "Aesty53            1.955000\n",
       "Aestysu37          2.690000\n",
       "Aesur96            2.210000\n",
       "Aesurstilis64      1.030000\n",
       "                     ...   \n",
       "Undosia27          3.770000\n",
       "Undosian34         4.150000\n",
       "Undotesta33        4.740000\n",
       "Wailin72           2.730000\n",
       "Yadacal26          3.270000\n",
       "Yadaisuir65        4.090000\n",
       "Yadam35            2.480000\n",
       "Yadanu52           2.380000\n",
       "Yadaphos40         2.675000\n",
       "Yalae81            3.345000\n",
       "Yalaeria91         1.060000\n",
       "Yaliru88           3.030000\n",
       "Yalo85             3.650000\n",
       "Yalostiphos68      4.400000\n",
       "Yana46             3.550000\n",
       "Yarithllodeu72     3.750000\n",
       "Yarithrgue83       3.450000\n",
       "Yarithrin84        4.140000\n",
       "Yarithsurgue62     4.940000\n",
       "Yarolwen77         4.430000\n",
       "Yasrisu92          3.440000\n",
       "Yastyriaphos75     4.750000\n",
       "Yasur35            4.480000\n",
       "Yasur85            1.100000\n",
       "Yathecal72         3.460000\n",
       "Yathecal82         2.073333\n",
       "Yathedeu43         3.010000\n",
       "Yoishirrala98      4.580000\n",
       "Zhisrisu83         3.945000\n",
       "Zontibe81          2.676667\n",
       "Length: 576, dtype: float64"
      ]
     },
     "execution_count": 6,
     "metadata": {},
     "output_type": "execute_result"
    }
   ],
   "source": [
    "#purchase count per player\n",
    "a=purchase_data.groupby(\"SN\").nunique()\n",
    "purchase_count_player=a[\"Item ID\"]\n",
    "purchase_count_player\n",
    "\n",
    "#total purchase value per player\n",
    "total_purchase_player=purchase_data.groupby('SN')[\"Price\"].agg('sum')\n",
    "\n",
    "#average purchase price\n",
    "avg_price_player=total_purchase_player/purchase_count_player\n",
    "avg_price_player\n",
    "\n",
    "\n"
   ]
  },
  {
   "cell_type": "code",
   "execution_count": 7,
   "metadata": {},
   "outputs": [
    {
     "ename": "SyntaxError",
     "evalue": "invalid syntax (<ipython-input-7-7f3cf9fcaf2c>, line 13)",
     "output_type": "error",
     "traceback": [
      "\u001b[1;36m  File \u001b[1;32m\"<ipython-input-7-7f3cf9fcaf2c>\"\u001b[1;36m, line \u001b[1;32m13\u001b[0m\n\u001b[1;33m    new_table=purchase_data[['Item ID,'Item Name','purchase_count_item','Price','Total_val_item']]\u001b[0m\n\u001b[1;37m                                          ^\u001b[0m\n\u001b[1;31mSyntaxError\u001b[0m\u001b[1;31m:\u001b[0m invalid syntax\n"
     ]
    }
   ],
   "source": [
    "#Retrieve the Item ID, Item Name, and Item Price columns\n",
    "most_popular_item=purchase_data[['Item ID','Item Name','Price']]\n",
    "\n",
    "#Group by Item ID and Item Name. Perform calculations to obtain purchase count, item price, and total purchase value\n",
    "#purchase count by Item\n",
    "b=purchase_data.groupby(\"Item Name\").nunique()\n",
    "purchase_count_item=b[\"Purchase ID\"]\n",
    "\n",
    "#total purchase value\n",
    "total_val_item=purchase_data.groupby('Item Name')[\"Price\"].agg('sum')\n",
    "total_val_item\n",
    "\n",
    "new_table=purchase_data[['Item ID,'Item Name','purchase_count_item','Price','Total_val_item']]\n",
    "new_table"
   ]
  },
  {
   "cell_type": "code",
   "execution_count": null,
   "metadata": {},
   "outputs": [],
   "source": []
  },
  {
   "cell_type": "code",
   "execution_count": null,
   "metadata": {},
   "outputs": [],
   "source": []
  }
 ],
 "metadata": {
  "kernelspec": {
   "display_name": "Python 3",
   "language": "python",
   "name": "python3"
  },
  "language_info": {
   "codemirror_mode": {
    "name": "ipython",
    "version": 3
   },
   "file_extension": ".py",
   "mimetype": "text/x-python",
   "name": "python",
   "nbconvert_exporter": "python",
   "pygments_lexer": "ipython3",
   "version": "3.7.3"
  }
 },
 "nbformat": 4,
 "nbformat_minor": 2
}
