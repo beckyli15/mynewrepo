{
 "cells": [
  {
   "cell_type": "code",
   "execution_count": 16,
   "metadata": {},
   "outputs": [
    {
     "data": {
      "text/plain": [
       "50443"
      ]
     },
     "execution_count": 16,
     "metadata": {},
     "output_type": "execute_result"
    }
   ],
   "source": [
    "import pandas as pd\n",
    "csv_path=\"ted_talks.csv\"\n",
    "ted_df=pd.read_csv(csv_path)\n",
    "ted_df.head()\n",
    "#min view\n",
    "min_view=ted_df[\"views\"].min()\n",
    "min_view\n",
    "#max view\n",
    "max_view=ted_df[\"views\"].max()\n",
    "max_view\n",
    "min_view\n",
    "#creating bin\n"
   ]
  },
  {
   "cell_type": "code",
   "execution_count": 17,
   "metadata": {},
   "outputs": [
    {
     "data": {
      "text/plain": [
       "47227110"
      ]
     },
     "execution_count": 17,
     "metadata": {},
     "output_type": "execute_result"
    }
   ],
   "source": [
    "max_view"
   ]
  },
  {
   "cell_type": "code",
   "execution_count": 18,
   "metadata": {},
   "outputs": [
    {
     "data": {
      "text/html": [
       "<div>\n",
       "<style scoped>\n",
       "    .dataframe tbody tr th:only-of-type {\n",
       "        vertical-align: middle;\n",
       "    }\n",
       "\n",
       "    .dataframe tbody tr th {\n",
       "        vertical-align: top;\n",
       "    }\n",
       "\n",
       "    .dataframe thead th {\n",
       "        text-align: right;\n",
       "    }\n",
       "</style>\n",
       "<table border=\"1\" class=\"dataframe\">\n",
       "  <thead>\n",
       "    <tr style=\"text-align: right;\">\n",
       "      <th></th>\n",
       "      <th>comments</th>\n",
       "      <th>duration</th>\n",
       "      <th>languages</th>\n",
       "      <th>views</th>\n",
       "    </tr>\n",
       "    <tr>\n",
       "      <th>view group</th>\n",
       "      <th></th>\n",
       "      <th></th>\n",
       "      <th></th>\n",
       "      <th></th>\n",
       "    </tr>\n",
       "  </thead>\n",
       "  <tbody>\n",
       "    <tr>\n",
       "      <th>J</th>\n",
       "      <td>172.028771</td>\n",
       "      <td>823.081381</td>\n",
       "      <td>26.747637</td>\n",
       "      <td>1.305004e+06</td>\n",
       "    </tr>\n",
       "    <tr>\n",
       "      <th>I</th>\n",
       "      <td>270.454545</td>\n",
       "      <td>818.818182</td>\n",
       "      <td>35.545455</td>\n",
       "      <td>4.811231e+06</td>\n",
       "    </tr>\n",
       "    <tr>\n",
       "      <th>H</th>\n",
       "      <td>425.666667</td>\n",
       "      <td>820.000000</td>\n",
       "      <td>38.166667</td>\n",
       "      <td>4.941061e+06</td>\n",
       "    </tr>\n",
       "    <tr>\n",
       "      <th>G</th>\n",
       "      <td>374.375000</td>\n",
       "      <td>882.937500</td>\n",
       "      <td>37.500000</td>\n",
       "      <td>5.507118e+06</td>\n",
       "    </tr>\n",
       "    <tr>\n",
       "      <th>F</th>\n",
       "      <td>346.625000</td>\n",
       "      <td>746.437500</td>\n",
       "      <td>40.375000</td>\n",
       "      <td>6.402027e+06</td>\n",
       "    </tr>\n",
       "    <tr>\n",
       "      <th>D</th>\n",
       "      <td>591.714286</td>\n",
       "      <td>1002.285714</td>\n",
       "      <td>39.071429</td>\n",
       "      <td>7.463538e+06</td>\n",
       "    </tr>\n",
       "    <tr>\n",
       "      <th>C</th>\n",
       "      <td>549.250000</td>\n",
       "      <td>719.500000</td>\n",
       "      <td>37.166667</td>\n",
       "      <td>8.503058e+06</td>\n",
       "    </tr>\n",
       "    <tr>\n",
       "      <th>B</th>\n",
       "      <td>583.428571</td>\n",
       "      <td>865.285714</td>\n",
       "      <td>38.285714</td>\n",
       "      <td>9.338224e+06</td>\n",
       "    </tr>\n",
       "    <tr>\n",
       "      <th>A</th>\n",
       "      <td>996.882353</td>\n",
       "      <td>963.264706</td>\n",
       "      <td>43.470588</td>\n",
       "      <td>1.795655e+07</td>\n",
       "    </tr>\n",
       "  </tbody>\n",
       "</table>\n",
       "</div>"
      ],
      "text/plain": [
       "              comments     duration  languages         views\n",
       "view group                                                  \n",
       "J           172.028771   823.081381  26.747637  1.305004e+06\n",
       "I           270.454545   818.818182  35.545455  4.811231e+06\n",
       "H           425.666667   820.000000  38.166667  4.941061e+06\n",
       "G           374.375000   882.937500  37.500000  5.507118e+06\n",
       "F           346.625000   746.437500  40.375000  6.402027e+06\n",
       "D           591.714286  1002.285714  39.071429  7.463538e+06\n",
       "C           549.250000   719.500000  37.166667  8.503058e+06\n",
       "B           583.428571   865.285714  38.285714  9.338224e+06\n",
       "A           996.882353   963.264706  43.470588  1.795655e+07"
      ]
     },
     "execution_count": 18,
     "metadata": {},
     "output_type": "execute_result"
    }
   ],
   "source": [
    "#create bin\n",
    "bins=[50443, 4700000, 4900000,5000000,6000000,7000000,8000000,9000000,10000000,47227110]\n",
    "group_names= [\"J\",\"I\",\"H\",\"G\",\"F\",\"D\",\"C\",\"B\",\"A\"]\n",
    "#new column \"view group\"\n",
    "ted_df[\"view group\"]=pd.cut(ted_df[\"views\"],bins,labels=group_names)\n",
    "ted_df.head()\n",
    "\n",
    "ted_df=ted_df.groupby(\"view group\")\n",
    "ted_df.mean()"
   ]
  },
  {
   "cell_type": "code",
   "execution_count": null,
   "metadata": {},
   "outputs": [],
   "source": []
  }
 ],
 "metadata": {
  "kernelspec": {
   "display_name": "Python 3",
   "language": "python",
   "name": "python3"
  },
  "language_info": {
   "codemirror_mode": {
    "name": "ipython",
    "version": 3
   },
   "file_extension": ".py",
   "mimetype": "text/x-python",
   "name": "python",
   "nbconvert_exporter": "python",
   "pygments_lexer": "ipython3",
   "version": "3.7.3"
  }
 },
 "nbformat": 4,
 "nbformat_minor": 2
}
