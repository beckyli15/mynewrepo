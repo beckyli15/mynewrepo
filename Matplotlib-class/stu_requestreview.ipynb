{
 "cells": [
  {
   "cell_type": "code",
   "execution_count": 2,
   "metadata": {},
   "outputs": [],
   "source": [
    "# Dependencies\n",
    "import json\n",
    "import requests "
   ]
  },
  {
   "cell_type": "code",
   "execution_count": 4,
   "metadata": {},
   "outputs": [
    {
     "name": "stdout",
     "output_type": "stream",
     "text": [
      "http://nyt-mongo-scraper.herokuapp.com/api/headlines\n"
     ]
    }
   ],
   "source": [
    "# Specify the URL\n",
    "url=\"http://nyt-mongo-scraper.herokuapp.com/api/headlines\"\n",
    "response = requests.get(url)\n",
    "print(response.url)"
   ]
  },
  {
   "cell_type": "code",
   "execution_count": 6,
   "metadata": {},
   "outputs": [
    {
     "data": {
      "text/plain": [
       "[{'saved': False,\n",
       "  '_id': '5d1ab89b1f033d0015905b54',\n",
       "  'headline': 'Hey, Democrats, What About the Senate?',\n",
       "  'summary': 'If the party is interested in restoring some semblance of good government to Washington, it needs to think about more than winning the White House.',\n",
       "  'url': 'https://www.nytimes.com/2019/07/01/opinion/senate-democrats-mcconnell-2020.html',\n",
       "  'date': '2019-07-02T01:51:23.150Z',\n",
       "  '__v': 0},\n",
       " {'saved': True,\n",
       "  '_id': '5d1a9a68a23b3100156c4d73',\n",
       "  'headline': 'On Eve of World Cup Semifinal, Clock Is Already Ticking on U.S.',\n",
       "  'summary': 'Europe’s rise as a women’s soccer power has been on full display in France. Its teams are not going away.',\n",
       "  'url': 'https://www.nytimes.com/2019/07/01/sports/uswnt-england-world-cup.html',\n",
       "  'date': '2019-07-01T23:42:32.517Z',\n",
       "  '__v': 0},\n",
       " {'saved': False,\n",
       "  '_id': '5d1a9a68a23b3100156c4d71',\n",
       "  'headline': 'Split Emerges in Trump Administration Over Approach to North KoreaIran Passes Nuclear Fuel Limit Under 2015 Pact, State Media ReportsIvanka Trump Tests Her Diplomatic Chops and Riles a Legion of Critics',\n",
       "  'summary': 'The violation does not by itself give the country enough to produce a nuclear weapon, but it signals Iran may be willing to abandon the limits of the pact.President Trump’s elder daughter used a G20 summit and then the Demilitarized Zone to test her role as budding stateswoman for the administration.',\n",
       "  'url': 'https://www.nytimes.com/2019/07/01/us/politics/trump-bolton-north-korea.html',\n",
       "  'date': '2019-07-01T23:42:32.517Z',\n",
       "  '__v': 0},\n",
       " {'saved': False,\n",
       "  '_id': '5d1a9a68a23b3100156c4d72',\n",
       "  'headline': 'Please Stop Telling Me America Is Great',\n",
       "  'summary': 'Politicians love to say it’s the greatest, but the numbers (and reality) don’t back them up.',\n",
       "  'url': 'https://www.nytimes.com/2019/07/01/opinion/america-great.html',\n",
       "  'date': '2019-07-01T23:42:32.517Z',\n",
       "  '__v': 0},\n",
       " {'saved': False,\n",
       "  '_id': '5d1a9a68a23b3100156c4d74',\n",
       "  'headline': '‘Three Women’ Takes a Long, Close Look at Sex Lives',\n",
       "  'summary': 'Lisa Taddeo spent eight years with the subjects of her book, an immersive look at a particular story of female sexuality, refracted three ways.',\n",
       "  'url': 'https://www.nytimes.com/2019/06/28/books/review-three-women-lisa-taddeo.html',\n",
       "  'date': '2019-07-01T23:42:32.517Z',\n",
       "  '__v': 0},\n",
       " {'saved': False,\n",
       "  '_id': '5d1a9a68a23b3100156c4d70',\n",
       "  'headline': 'China Vowed to Preserve Hong Kong’s Freedoms. Why Are So Many Protesting?',\n",
       "  'summary': '“One country, two systems” was Beijing’s pledge when it took back a former British colony on this day in 1997. But concerns over civil liberties are mounting.',\n",
       "  'url': 'https://www.nytimes.com/2019/07/01/world/asia/hong-kong-china-handover.html',\n",
       "  'date': '2019-07-01T23:42:32.516Z',\n",
       "  '__v': 0}]"
      ]
     },
     "execution_count": 6,
     "metadata": {},
     "output_type": "execute_result"
    }
   ],
   "source": [
    "# JSON-ify response\n",
    "data = response.json()\n",
    "data"
   ]
  },
  {
   "cell_type": "code",
   "execution_count": 10,
   "metadata": {
    "scrolled": true
   },
   "outputs": [
    {
     "data": {
      "text/plain": [
       "[7, 7]"
      ]
     },
     "execution_count": 10,
     "metadata": {},
     "output_type": "execute_result"
    }
   ],
   "source": [
    "# Print first and last articles\n",
    "first_last=[len(data[0])\n",
    "first_last\n",
    "json.dumps(resonse_json[-0])"
   ]
  },
  {
   "cell_type": "code",
   "execution_count": null,
   "metadata": {
    "collapsed": true
   },
   "outputs": [],
   "source": [
    "#Print the number of responses received.\n"
   ]
  }
 ],
 "metadata": {
  "kernelspec": {
   "display_name": "Python 3",
   "language": "python",
   "name": "python3"
  },
  "language_info": {
   "codemirror_mode": {
    "name": "ipython",
    "version": 3
   },
   "file_extension": ".py",
   "mimetype": "text/x-python",
   "name": "python",
   "nbconvert_exporter": "python",
   "pygments_lexer": "ipython3",
   "version": "3.7.3"
  },
  "varInspector": {
   "cols": {
    "lenName": 16,
    "lenType": 16,
    "lenVar": 40
   },
   "kernels_config": {
    "python": {
     "delete_cmd_postfix": "",
     "delete_cmd_prefix": "del ",
     "library": "var_list.py",
     "varRefreshCmd": "print(var_dic_list())"
    },
    "r": {
     "delete_cmd_postfix": ") ",
     "delete_cmd_prefix": "rm(",
     "library": "var_list.r",
     "varRefreshCmd": "cat(var_dic_list()) "
    }
   },
   "types_to_exclude": [
    "module",
    "function",
    "builtin_function_or_method",
    "instance",
    "_Feature"
   ],
   "window_display": false
  }
 },
 "nbformat": 4,
 "nbformat_minor": 2
}
